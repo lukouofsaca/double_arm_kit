{
 "cells": [
  {
   "cell_type": "code",
   "execution_count": 4,
   "id": "e47fd3a7",
   "metadata": {},
   "outputs": [
    {
     "name": "stdout",
     "output_type": "stream",
     "text": [
      "current c api version:  1.0.6\n",
      "[42670, 9418, 9393, 9426, 9420, 52681]\n",
      "old 42670 new 52730 diff 10060\n",
      "[52730, 19582, 19577, 19606, 19594, 39110]\n",
      "old 52730 new 63127 diff 10397\n",
      "[63127, 30053, 30100, 30091, 30049, 25224]\n",
      "old 63127 new 65514 diff 2387\n",
      "[65514, 32505, 40257, 40254, 40256, 11813]\n",
      "old 40257 new 50749 diff 10492\n",
      "[65511, 32548, 50749, 50735, 50748, 21]\n",
      "old 50749 new 61844 diff 11095\n",
      "[65511, 32548, 61844, 61856, 61884, 16]\n",
      "old 61844 new 65516 diff 3672\n",
      "[65511, 32548, 65516, 65526, 65526, 16]\n",
      "[65511, 32548, 65527, 65526, 65526, 16]\n",
      "[65511, 32548, 65527, 65526, 65526, 16]\n",
      "[65511, 32548, 65527, 65526, 65526, 16]\n",
      "[65511, 32548, 65527, 65526, 65526, 16]\n",
      "[65511, 32548, 65527, 65526, 65526, 16]\n",
      "[65511, 32548, 65527, 65526, 65526, 16]\n",
      "[65511, 32548, 65527, 65526, 65526, 16]\n",
      "[65511, 32548, 65527, 65526, 65526, 16]\n",
      "[65511, 32548, 65527, 65526, 65526, 16]\n"
     ]
    },
    {
     "name": "stderr",
     "output_type": "stream",
     "text": [
      "WARNING:root:protecting pos [65511, 32548, 65527, 65526, 65526, 16]\n"
     ]
    },
    {
     "name": "stdout",
     "output_type": "stream",
     "text": [
      "[65511, 32548, 65527, 65526, 65526, 16]\n",
      "<class 'list'>\n"
     ]
    },
    {
     "data": {
      "text/plain": [
       "0"
      ]
     },
     "execution_count": 4,
     "metadata": {},
     "output_type": "execute_result"
    }
   ],
   "source": [
    "from Robotic_Arm.rm_robot_interface import *\n",
    "import time\n",
    "from bz import hand_control_b, protect\n",
    "\n",
    "arm = RoboticArm(rm_thread_mode_e.RM_TRIPLE_MODE_E)\n",
    "handle = arm.rm_create_robot_arm(\"192.168.1.19\", 8080)\n",
    "arm.rm_close_modbustcp_mode()\n",
    "COM_PORT = 1\n",
    "arm.rm_set_modbus_mode(COM_PORT,115200,1)\n",
    "# 创建机械臂连接，打印连接id\n",
    "init = [0,0,0,0,0,0]\n",
    "GESTURE0 = [0,0,0,0,0,65535]\n",
    "GESTURE1 = [65535,0,0,0,0,65535]\n",
    "# GESTURE1 = [0,65535,65535,65535,65535,65535]\n",
    "GESTURE2 = [65535,65535,65535,65535,65535,0]\n",
    "hand_control_b(arm,init)\n",
    "hand_control_b(arm,GESTURE0)\n",
    "input()\n",
    "hand_control_b(arm,GESTURE1)\n",
    "input()\n",
    "hand_control_b(arm,GESTURE2)\n",
    "protect(arm)\n",
    "input()\n",
    "hand_control_b(arm, init)\n",
    "\n",
    "arm.rm_delete_robot_arm()\n"
   ]
  },
  {
   "cell_type": "code",
   "execution_count": 2,
   "id": "001b0962",
   "metadata": {},
   "outputs": [
    {
     "name": "stdout",
     "output_type": "stream",
     "text": [
      "current c api version:  1.0.6\n"
     ]
    },
    {
     "data": {
      "text/plain": [
       "''"
      ]
     },
     "execution_count": 2,
     "metadata": {},
     "output_type": "execute_result"
    }
   ],
   "source": [
    "from Robotic_Arm.rm_robot_interface import *\n",
    "import time\n",
    "from bz import hand_control_b, protect\n",
    "\n",
    "arm = RoboticArm(rm_thread_mode_e.RM_TRIPLE_MODE_E)\n",
    "handle = arm.rm_create_robot_arm(\"192.168.1.19\", 8080)\n",
    "arm.rm_close_modbustcp_mode()\n",
    "COM_PORT = 1\n",
    "arm.rm_set_modbus_mode(COM_PORT,115200,1)\n",
    "# 创建机械臂连接，打印连接id\n",
    "init = [0,0,0,0,0,0]\n",
    "GESTURE0 = [0,0,0,0,0,65535]\n",
    "GESTURE1 = [65535,0,0,0,0,65535]\n",
    "# GESTURE1 = [0,65535,65535,65535,65535,65535]\n",
    "GESTURE2 = [65535,65535,65535,65535,65535,0]\n",
    "hand_control_b(arm,init)\n",
    "hand_control_b(arm,GESTURE0)\n",
    "input()"
   ]
  }
 ],
 "metadata": {
  "kernelspec": {
   "display_name": "Python 3",
   "language": "python",
   "name": "python3"
  },
  "language_info": {
   "codemirror_mode": {
    "name": "ipython",
    "version": 3
   },
   "file_extension": ".py",
   "mimetype": "text/x-python",
   "name": "python",
   "nbconvert_exporter": "python",
   "pygments_lexer": "ipython3",
   "version": "3.10.11"
  }
 },
 "nbformat": 4,
 "nbformat_minor": 5
}
